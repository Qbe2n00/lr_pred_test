{
 "cells": [
  {
   "cell_type": "code",
   "execution_count": null,
   "metadata": {
    "vscode": {
     "languageId": "plaintext"
    }
   },
   "outputs": [],
   "source": [
    "import numpy as np\n",
    "import pandas as pd\n",
    "from sklearn.neighbors import KDTree\n",
    "from annoy import AnnoyIndex\n",
    "from scipy.sparse import csr_matrix"
   ]
  },
  {
   "cell_type": "code",
   "execution_count": null,
   "metadata": {
    "vscode": {
     "languageId": "plaintext"
    }
   },
   "outputs": [],
   "source": [
    "def _gini(array):\n",
    "    \"\"\"Calculate the Gini coefficient of a numpy array.\n",
    "    \"\"\"\n",
    "    \n",
    "    array = array.flatten().astype(float)\n",
    "    if np.amin(array) < 0:\n",
    "        array -= np.amin(array)\n",
    "    array += 0.0000001\n",
    "    array = np.sort(array)\n",
    "    index = np.arange(1, array.shape[0]+1)\n",
    "    n = array.shape[0]\n",
    "    array_sum = np.sum(array)\n",
    "    return (2 * np.dot(index, array) - (n + 1) * array_sum) / (n * array_sum)"
   ]
  },
  {
   "cell_type": "code",
   "execution_count": null,
   "metadata": {
    "vscode": {
     "languageId": "plaintext"
    }
   },
   "outputs": [],
   "source": [
    "def _knn(X_ref,\n",
    "         X_query=None,\n",
    "         k=20,\n",
    "         leaf_size=40,\n",
    "         metric='euclidean',\n",
    "         annoy_n_trees=10):\n",
    "    \"\"\"Calculate K nearest neighbors for each row, using KDTree or Annoy.\n",
    "    \"\"\"\n",
    "    if X_query is None:\n",
    "        X_query = X_ref.copy()\n",
    "    dim = X_ref.shape[1]\n",
    "    if dim < 8192:\n",
    "        kdt = KDTree(X_ref, leaf_size=leaf_size, metric=metric)\n",
    "        kdt_d, kdt_i = kdt.query(X_query, k=k, return_distance=True)   \n",
    "    else:\n",
    "        annoy_index = AnnoyIndex(dim, metric)\n",
    "        #Add all points from X_ref to Annoy index --> change algorithm\n",
    "        for i in range(X_ref.shape[0]):\n",
    "            annoy_index.add_item(i, X_ref[i])\n",
    "        annoy_index.build(annoy_n_trees)\n",
    "        kdt_i = []\n",
    "        kdt_d = []\n",
    "        for x in X_query:\n",
    "            indices, distances = annoy_index.get_nns_by_vector(x, k, include_distances=True)\n",
    "            kdt_i.append(indices)\n",
    "            kdt_d.append(distances)\n",
    "        kdt_i = np.array(kdt_i)\n",
    "        kdt_d = np.array(kdt_d)\n",
    "\n",
    "    sp_row = np.repeat(np.arange(kdt_i.shape[0]), kdt_i.shape[1])\n",
    "    sp_col = kdt_i.flatten()\n",
    "    sp_conn = np.repeat(1, len(sp_row))\n",
    "    sp_dist = kdt_d.flatten()\n",
    "    mat_conn_ref_query = csr_matrix(\n",
    "        (sp_conn, (sp_row, sp_col)),\n",
    "        shape=(X_query.shape[0], X_ref.shape[0])).T\n",
    "    mat_dist_ref_query = csr_matrix(\n",
    "        (sp_dist, (sp_row, sp_col)),\n",
    "        shape=(X_query.shape[0], X_ref.shape[0])).T\n",
    "    return mat_conn_ref_query, mat_dist_ref_query"
   ]
  }
 ],
 "metadata": {
  "language_info": {
   "name": "python"
  }
 },
 "nbformat": 4,
 "nbformat_minor": 2
}
